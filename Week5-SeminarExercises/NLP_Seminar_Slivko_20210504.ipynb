{
 "cells": [
  {
   "cell_type": "markdown",
   "metadata": {
    "toc": true
   },
   "source": [
    "<h1>Table of Contents<span class=\"tocSkip\"></span></h1>\n",
    "<div class=\"toc\"><ul class=\"toc-item\"><li><span><a href=\"#Ex.1.\" data-toc-modified-id=\"Ex.1.-1\"><span class=\"toc-item-num\">1&nbsp;&nbsp;</span>Ex.1.</a></span></li><li><span><a href=\"#Ex.3.\" data-toc-modified-id=\"Ex.3.-2\"><span class=\"toc-item-num\">2&nbsp;&nbsp;</span>Ex.3.</a></span></li><li><span><a href=\"#Ex.2.\" data-toc-modified-id=\"Ex.2.-3\"><span class=\"toc-item-num\">3&nbsp;&nbsp;</span>Ex.2.</a></span></li></ul></div>"
   ]
  },
  {
   "cell_type": "markdown",
   "metadata": {},
   "source": [
    "## Ex.1."
   ]
  },
  {
   "cell_type": "code",
   "execution_count": 7,
   "metadata": {},
   "outputs": [],
   "source": [
    "import nltk\n",
    "from nltk.corpus import gutenberg"
   ]
  },
  {
   "cell_type": "code",
   "execution_count": 8,
   "metadata": {},
   "outputs": [],
   "source": [
    "thebible = gutenberg.words('bible-kjv.txt')"
   ]
  },
  {
   "cell_type": "code",
   "execution_count": 9,
   "metadata": {},
   "outputs": [
    {
     "data": {
      "text/plain": [
       "['[',\n",
       " 'The',\n",
       " 'King',\n",
       " 'James',\n",
       " 'Bible',\n",
       " ']',\n",
       " 'The',\n",
       " 'Old',\n",
       " 'Testament',\n",
       " 'of',\n",
       " 'the',\n",
       " 'King',\n",
       " 'James',\n",
       " 'Bible',\n",
       " 'The',\n",
       " 'First',\n",
       " 'Book',\n",
       " 'of',\n",
       " 'Moses',\n",
       " ':',\n",
       " 'Called',\n",
       " 'Genesis',\n",
       " '1',\n",
       " ':',\n",
       " '1',\n",
       " 'In',\n",
       " 'the',\n",
       " 'beginning',\n",
       " 'God',\n",
       " 'created',\n",
       " 'the',\n",
       " 'heaven',\n",
       " 'and',\n",
       " 'the',\n",
       " 'earth',\n",
       " '.',\n",
       " '1',\n",
       " ':',\n",
       " '2',\n",
       " 'And',\n",
       " 'the',\n",
       " 'earth',\n",
       " 'was',\n",
       " 'without',\n",
       " 'form',\n",
       " ',',\n",
       " 'and',\n",
       " 'void',\n",
       " ';',\n",
       " 'and',\n",
       " 'darkness',\n",
       " 'was',\n",
       " 'upon',\n",
       " 'the',\n",
       " 'face',\n",
       " 'of',\n",
       " 'the',\n",
       " 'deep',\n",
       " '.',\n",
       " 'And',\n",
       " 'the',\n",
       " 'Spirit',\n",
       " 'of',\n",
       " 'God',\n",
       " 'moved',\n",
       " 'upon',\n",
       " 'the',\n",
       " 'face',\n",
       " 'of',\n",
       " 'the',\n",
       " 'waters',\n",
       " '.',\n",
       " '1',\n",
       " ':',\n",
       " '3',\n",
       " 'And',\n",
       " 'God',\n",
       " 'said',\n",
       " ',',\n",
       " 'Let',\n",
       " 'there',\n",
       " 'be',\n",
       " 'light',\n",
       " ':',\n",
       " 'and',\n",
       " 'there',\n",
       " 'was',\n",
       " 'light',\n",
       " '.',\n",
       " '1',\n",
       " ':',\n",
       " '4',\n",
       " 'And',\n",
       " 'God',\n",
       " 'saw',\n",
       " 'the',\n",
       " 'light',\n",
       " ',',\n",
       " 'that',\n",
       " 'it']"
      ]
     },
     "execution_count": 9,
     "metadata": {},
     "output_type": "execute_result"
    }
   ],
   "source": [
    "thebible[:100]"
   ]
  },
  {
   "cell_type": "code",
   "execution_count": 23,
   "metadata": {},
   "outputs": [],
   "source": [
    "bible_text = nltk.Text(thebible)"
   ]
  },
  {
   "cell_type": "code",
   "execution_count": 15,
   "metadata": {},
   "outputs": [],
   "source": [
    "def generate_model(cfdist, word, num=15):\n",
    "    for i in range(num):\n",
    "        print(word, end=' ')\n",
    "        word = cfdist[word].max()\n",
    "\n",
    "bigrams = nltk.bigrams(thebible)\n",
    "cfd = nltk.ConditionalFreqDist(bigrams)"
   ]
  },
  {
   "cell_type": "code",
   "execution_count": 26,
   "metadata": {},
   "outputs": [
    {
     "name": "stderr",
     "output_type": "stream",
     "text": [
      "Building ngram index...\n"
     ]
    },
    {
     "name": "stdout",
     "output_type": "stream",
     "text": [
      "lambs , and cast the salt sea , and Habor , and Eshean , 15 : 16\n",
      "Hamath , Berothah , Sibraim , which were in Eshtemoa , with the sword\n",
      "be doubled the third hour of the sons of Pashur , a goodly : and I\n",
      "punished them :\n"
     ]
    },
    {
     "data": {
      "text/plain": [
       "'lambs , and cast the salt sea , and Habor , and Eshean , 15 : 16\\nHamath , Berothah , Sibraim , which were in Eshtemoa , with the sword\\nbe doubled the third hour of the sons of Pashur , a goodly : and I\\npunished them :'"
      ]
     },
     "execution_count": 26,
     "metadata": {},
     "output_type": "execute_result"
    }
   ],
   "source": [
    "bible_text.generate(50)"
   ]
  },
  {
   "cell_type": "code",
   "execution_count": 19,
   "metadata": {},
   "outputs": [
    {
     "name": "stdout",
     "output_type": "stream",
     "text": [
      "light , and the LORD , and the LORD , and the LORD , and "
     ]
    }
   ],
   "source": [
    "generate_model(cfd,'light')"
   ]
  },
  {
   "cell_type": "code",
   "execution_count": 20,
   "metadata": {},
   "outputs": [
    {
     "name": "stdout",
     "output_type": "stream",
     "text": [
      "god , and the LORD , and the LORD , and the LORD , and "
     ]
    }
   ],
   "source": [
    "generate_model(cfd,'god')"
   ]
  },
  {
   "cell_type": "code",
   "execution_count": 22,
   "metadata": {},
   "outputs": [
    {
     "name": "stdout",
     "output_type": "stream",
     "text": [
      "life , and the LORD , and the LORD , and the LORD , and "
     ]
    }
   ],
   "source": [
    "generate_model(cfd,'life')"
   ]
  },
  {
   "cell_type": "markdown",
   "metadata": {},
   "source": [
    "## Ex.3."
   ]
  },
  {
   "cell_type": "code",
   "execution_count": 32,
   "metadata": {},
   "outputs": [
    {
     "data": {
      "text/plain": [
       "['adventure',\n",
       " 'belles_lettres',\n",
       " 'editorial',\n",
       " 'fiction',\n",
       " 'government',\n",
       " 'hobbies',\n",
       " 'humor',\n",
       " 'learned',\n",
       " 'lore',\n",
       " 'mystery',\n",
       " 'news',\n",
       " 'religion',\n",
       " 'reviews',\n",
       " 'romance',\n",
       " 'science_fiction']"
      ]
     },
     "execution_count": 32,
     "metadata": {},
     "output_type": "execute_result"
    }
   ],
   "source": [
    "from nltk.corpus import brown\n",
    "brown.categories()"
   ]
  },
  {
   "cell_type": "code",
   "execution_count": 39,
   "metadata": {},
   "outputs": [
    {
     "data": {
      "text/plain": [
       "[['As', 'a', 'result', ',', 'although', 'we', 'still', 'make', 'use', 'of', 'this', 'distinction', ',', 'there', 'is', 'much', 'confusion', 'as', 'to', 'the', 'meaning', 'of', 'the', 'basic', 'terms', 'employed', '.'], ['Just', 'what', 'is', 'meant', 'by', '``', 'spirit', \"''\", 'and', 'by', '``', 'matter', \"''\", '?', '?'], ...]"
      ]
     },
     "execution_count": 39,
     "metadata": {},
     "output_type": "execute_result"
    }
   ],
   "source": [
    "len(brown.words(fileids=['cd12']))\n",
    "brown.sents(categories=['religion'])"
   ]
  },
  {
   "cell_type": "code",
   "execution_count": 35,
   "metadata": {},
   "outputs": [
    {
     "data": {
      "text/plain": [
       "2463"
      ]
     },
     "execution_count": 35,
     "metadata": {},
     "output_type": "execute_result"
    }
   ],
   "source": [
    "brown.words(fileids=['cp12'])\n",
    "len(brown.words(fileids=['cp12']))"
   ]
  },
  {
   "cell_type": "code",
   "execution_count": 42,
   "metadata": {},
   "outputs": [
    {
     "data": {
      "text/plain": [
       "39399"
      ]
     },
     "execution_count": 42,
     "metadata": {},
     "output_type": "execute_result"
    }
   ],
   "source": [
    "brown_rel_tagged = brown.tagged_words(categories=['religion'])\n",
    "len(brown_rel_tagged)"
   ]
  },
  {
   "cell_type": "code",
   "execution_count": 44,
   "metadata": {},
   "outputs": [
    {
     "data": {
      "text/plain": [
       "[('As', 'CS'),\n",
       " ('a', 'AT'),\n",
       " ('result', 'NN'),\n",
       " (',', ','),\n",
       " ('although', 'CS'),\n",
       " ('we', 'PPSS'),\n",
       " ('still', 'RB'),\n",
       " ('make', 'VB'),\n",
       " ('use', 'NN'),\n",
       " ('of', 'IN')]"
      ]
     },
     "execution_count": 44,
     "metadata": {},
     "output_type": "execute_result"
    }
   ],
   "source": [
    "brown_rel_tagged[:10]"
   ]
  },
  {
   "cell_type": "code",
   "execution_count": 43,
   "metadata": {},
   "outputs": [
    {
     "data": {
      "text/plain": [
       "70022"
      ]
     },
     "execution_count": 43,
     "metadata": {},
     "output_type": "execute_result"
    }
   ],
   "source": [
    "brown_rom_tagged = brown.tagged_words(categories=['romance'])\n",
    "len(brown_rom_tagged)"
   ]
  },
  {
   "cell_type": "code",
   "execution_count": 47,
   "metadata": {},
   "outputs": [
    {
     "name": "stdout",
     "output_type": "stream",
     "text": [
      "6373\n",
      "8452\n"
     ]
    }
   ],
   "source": [
    "rel_words = [word for (word, tag) in brown_rel_tagged]\n",
    "rom_words = [word for (word, tag) in brown_rom_tagged]\n",
    "print(len(set(rel_words))) \n",
    "print(len(set(rom_words))) "
   ]
  },
  {
   "cell_type": "code",
   "execution_count": 48,
   "metadata": {},
   "outputs": [],
   "source": [
    "def polysemy(word): \n",
    "    return wn.synsets(word)"
   ]
  },
  {
   "cell_type": "code",
   "execution_count": 54,
   "metadata": {},
   "outputs": [],
   "source": [
    "from nltk.corpus import wordnet as wn\n",
    "import numpy as np"
   ]
  },
  {
   "cell_type": "code",
   "execution_count": 52,
   "metadata": {},
   "outputs": [
    {
     "data": {
      "text/plain": [
       "7"
      ]
     },
     "execution_count": 52,
     "metadata": {},
     "output_type": "execute_result"
    }
   ],
   "source": [
    "len(wn.synsets('dog', 'n'))"
   ]
  },
  {
   "cell_type": "code",
   "execution_count": 65,
   "metadata": {},
   "outputs": [],
   "source": [
    "meanings_rom_nouns = [len(wn.synsets(w, 'n'))for w in set(rom_words)]\n",
    "meanings_rel_nouns = [len(wn.synsets(w, 'n'))for w in set(rel_words)]\n",
    "\n",
    "meanings_rom_all = [len(wn.synsets(w))for w in set(rom_words)]\n",
    "meanings_rel_all = [len(wn.synsets(w))for w in set(rel_words)]"
   ]
  },
  {
   "cell_type": "code",
   "execution_count": 66,
   "metadata": {},
   "outputs": [
    {
     "name": "stdout",
     "output_type": "stream",
     "text": [
      "1.9813061997160435\n",
      "2.1584810921073276\n"
     ]
    }
   ],
   "source": [
    "print(np.mean(meanings_rom_nouns))\n",
    "print(np.mean(meanings_rel_nouns))"
   ]
  },
  {
   "cell_type": "code",
   "execution_count": 67,
   "metadata": {},
   "outputs": [
    {
     "name": "stdout",
     "output_type": "stream",
     "text": [
      "5.352224325603408\n",
      "5.576965322454103\n"
     ]
    }
   ],
   "source": [
    "print(np.mean(meanings_rom_all))\n",
    "print(np.mean(meanings_rel_all))"
   ]
  },
  {
   "cell_type": "code",
   "execution_count": 116,
   "metadata": {},
   "outputs": [],
   "source": [
    "import matplotlib.pyplot as plt"
   ]
  },
  {
   "cell_type": "code",
   "execution_count": 127,
   "metadata": {},
   "outputs": [
    {
     "data": {
      "text/plain": [
       "(array([6.588e+03, 1.275e+03, 3.690e+02, 9.600e+01, 6.000e+01, 3.500e+01,\n",
       "        2.100e+01, 2.000e+00, 2.000e+00, 4.000e+00]),\n",
       " array([ 0. ,  7.5, 15. , 22.5, 30. , 37.5, 45. , 52.5, 60. , 67.5, 75. ]),\n",
       " <BarContainer object of 10 artists>)"
      ]
     },
     "execution_count": 127,
     "metadata": {},
     "output_type": "execute_result"
    },
    {
     "data": {
      "image/png": "[encoded data removed]",
      "text/plain": [
       "<Figure size 432x288 with 1 Axes>"
      ]
     },
     "metadata": {
      "needs_background": "light"
     },
     "output_type": "display_data"
    }
   ],
   "source": [
    "plt.hist(meanings_rom_all, bins = 10)"
   ]
  },
  {
   "cell_type": "code",
   "execution_count": 123,
   "metadata": {},
   "outputs": [
    {
     "data": {
      "text/plain": [
       "(array([4.958e+03, 9.390e+02, 2.980e+02, 7.300e+01, 4.600e+01, 3.200e+01,\n",
       "        2.100e+01, 2.000e+00, 2.000e+00, 2.000e+00]),\n",
       " array([ 0. ,  7.5, 15. , 22.5, 30. , 37.5, 45. , 52.5, 60. , 67.5, 75. ]),\n",
       " <BarContainer object of 10 artists>)"
      ]
     },
     "execution_count": 123,
     "metadata": {},
     "output_type": "execute_result"
    },
    {
     "data": {
      "image/png": "[encoded data removed]",
      "text/plain": [
       "<Figure size 432x288 with 1 Axes>"
      ]
     },
     "metadata": {
      "needs_background": "light"
     },
     "output_type": "display_data"
    }
   ],
   "source": [
    "plt.hist(meanings_rel_all, bins = 10)"
   ]
  },
  {
   "cell_type": "code",
   "execution_count": 122,
   "metadata": {},
   "outputs": [
    {
     "data": {
      "text/plain": [
       "(array([4.978e+03, 8.490e+02, 3.160e+02, 1.650e+02, 3.900e+01, 1.500e+01,\n",
       "        5.000e+00, 2.000e+00, 0.000e+00, 4.000e+00]),\n",
       " array([ 0. ,  3.3,  6.6,  9.9, 13.2, 16.5, 19.8, 23.1, 26.4, 29.7, 33. ]),\n",
       " <BarContainer object of 10 artists>)"
      ]
     },
     "execution_count": 122,
     "metadata": {},
     "output_type": "execute_result"
    },
    {
     "data": {
      "image/png": "[encoded data removed]",
      "text/plain": [
       "<Figure size 432x288 with 1 Axes>"
      ]
     },
     "metadata": {
      "needs_background": "light"
     },
     "output_type": "display_data"
    }
   ],
   "source": [
    "plt.hist(meanings_rel_nouns, bins = 10)"
   ]
  },
  {
   "cell_type": "code",
   "execution_count": 121,
   "metadata": {},
   "outputs": [
    {
     "data": {
      "text/plain": [
       "(array([6.766e+03, 1.029e+03, 3.990e+02, 1.920e+02, 4.200e+01, 1.100e+01,\n",
       "        6.000e+00, 2.000e+00, 0.000e+00, 5.000e+00]),\n",
       " array([ 0. ,  3.3,  6.6,  9.9, 13.2, 16.5, 19.8, 23.1, 26.4, 29.7, 33. ]),\n",
       " <BarContainer object of 10 artists>)"
      ]
     },
     "execution_count": 121,
     "metadata": {},
     "output_type": "execute_result"
    },
    {
     "data": {
      "image/png": "[encoded data removed]",
      "text/plain": [
       "<Figure size 432x288 with 1 Axes>"
      ]
     },
     "metadata": {
      "needs_background": "light"
     },
     "output_type": "display_data"
    }
   ],
   "source": [
    "plt.hist(meanings_rom_nouns, bins = 10)"
   ]
  },
  {
   "cell_type": "markdown",
   "metadata": {},
   "source": [
    "## Ex.2."
   ]
  },
  {
   "cell_type": "code",
   "execution_count": null,
   "metadata": {},
   "outputs": [],
   "source": []
  },
  {
   "cell_type": "code",
   "execution_count": 103,
   "metadata": {},
   "outputs": [],
   "source": [
    "from nltk.stem import WordNetLemmatizer\n",
    "lemmatizer = WordNetLemmatizer()"
   ]
  },
  {
   "cell_type": "code",
   "execution_count": 111,
   "metadata": {},
   "outputs": [],
   "source": [
    "def count_meronyms(word):\n",
    "    counter = 0\n",
    "    for synset in wn.synsets(word, wn.NOUN):\n",
    "        counter += len(synset.part_meronyms()) \n",
    "        counter += len(synset.substance_meronyms()) \n",
    "    return counter"
   ]
  },
  {
   "cell_type": "code",
   "execution_count": 115,
   "metadata": {},
   "outputs": [
    {
     "name": "stdout",
     "output_type": "stream",
     "text": [
      "Avg. number of meronyms:\n",
      " 0.5135728856111721\n",
      "Religion:\n",
      " 6373 ---> number of meronyms:  3273\n"
     ]
    }
   ],
   "source": [
    "rel_meronyms = [count_meronyms(lemmatizer.lemmatize(w)) for w in set(rel_words)]\n",
    "print(\"Avg. number of meronyms:\\n\",np.mean(rel_meronyms))\n",
    "print(\"Religion:\\n\",len(set(rel_words)),\"---> number of meronyms: \", np.sum(rel_meronyms))"
   ]
  },
  {
   "cell_type": "code",
   "execution_count": 114,
   "metadata": {},
   "outputs": [
    {
     "name": "stdout",
     "output_type": "stream",
     "text": [
      "Avg. number of meronyms:\n",
      " 0.6250591575958353\n",
      "Romance\n",
      " 8452 ---> number of meronyms:  5283\n"
     ]
    }
   ],
   "source": [
    "rom_meronyms = [count_meronyms(lemmatizer.lemmatize(w)) for w in set(rom_words)]\n",
    "print(\"Avg. number of meronyms:\\n\", np.mean(rom_meronyms))\n",
    "print(\"Romance\\n\",len(set(rom_words)),\"---> number of meronyms: \", np.sum(rom_meronyms))"
   ]
  },
  {
   "cell_type": "code",
   "execution_count": null,
   "metadata": {},
   "outputs": [],
   "source": []
  }
 ],
 "metadata": {
  "kernelspec": {
   "display_name": "Python 3",
   "language": "python",
   "name": "python3"
  },
  "language_info": {
   "codemirror_mode": {
    "name": "ipython",
    "version": 3
   },
   "file_extension": ".py",
   "mimetype": "text/x-python",
   "name": "python",
   "nbconvert_exporter": "python",
   "pygments_lexer": "ipython3",
   "version": "3.8.5"
  },
  "toc": {
   "base_numbering": 1,
   "nav_menu": {},
   "number_sections": true,
   "sideBar": true,
   "skip_h1_title": false,
   "title_cell": "Table of Contents",
   "title_sidebar": "Contents",
   "toc_cell": true,
   "toc_position": {},
   "toc_section_display": true,
   "toc_window_display": false
  }
 },
 "nbformat": 4,
 "nbformat_minor": 4
}
